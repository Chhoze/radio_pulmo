{
 "cells": [
  {
   "cell_type": "markdown",
   "metadata": {},
   "source": [
    "\n",
    "## Radio Pulmonaires pour l'analyse du COVID19\n",
    "### DataScientest : Bootcamp DataScientist\n",
    "Octobre 2024"
   ]
  },
  {
   "cell_type": "markdown",
   "metadata": {},
   "source": [
    "#### On commence par importer les packages qui seront utiles\n",
    "(Il faut les installer préalablement opencv-python  -> cv2\n",
    "read_excel de pandas a une dépendance vers openpyxl)"
   ]
  },
  {
   "cell_type": "code",
   "execution_count": null,
   "metadata": {},
   "outputs": [],
   "source": [
    "# Import des packages\n",
    "\n",
    "# Naviguer dans les répertoire\n",
    "\n",
    "import os\n",
    "\n",
    "## Data preprocessing\n",
    "import numpy as np\n",
    "import pandas as pd \n",
    "import string\n",
    "\n",
    "# Data_viz\n",
    "\n",
    "import seaborn as sns\n",
    "import matplotlib.pyplot as plt\n",
    "%matplotlib inline\n",
    "\n",
    "# Gestion des images\n",
    "import cv2\n",
    "\n",
    "\n",
    "# On indique le répertoire de travail\n",
    "\n",
    "path = r\"C:\\Users\\Inrae\\Documents\\Projet_Data_Science\\COVID-19_Radiography_Dataset\"\n",
    "\n"
   ]
  },
  {
   "cell_type": "markdown",
   "metadata": {},
   "source": [
    "Les données ont été téléchargées préalablement. \n",
    "Elles sont dispo sous : https://www.kaggle.com/code/ahmedtronic/covid-19-radiology-vgg19-f1-score-95\n",
    "\n",
    "Il y a trois dossiers (COVID, Lung_Opacity et Normal) contenant chacun plusieurs milliers d'images et les masques associés\n",
    "Le fichier excel donne des informations sur les metadaonnées : url de la source\n",
    "\n",
    "Il faudra les importer, les annoter en fonction de leur dossier initial, les préprocesser pour pouvoir les exploiter ensuite en classification\n",
    "\n",
    "# On explore pour une image\n"
   ]
  },
  {
   "cell_type": "code",
   "execution_count": null,
   "metadata": {},
   "outputs": [],
   "source": [
    "img_color = cv2.imread(r\"./COVID-19_Radiography_Dataset\\Lung_Opacity\\images\\Lung_Opacity-10.png\",cv2.IMREAD_COLOR)\n",
    "\n",
    "print(\"Le format de l'image est : \", img_color.shape)\n",
    "\n",
    "plt.imshow(img_color)\n"
   ]
  },
  {
   "cell_type": "code",
   "execution_count": null,
   "metadata": {},
   "outputs": [],
   "source": [
    "\n",
    "img = cv2.imread(r\"./COVID-19_Radiography_Dataset\\Lung_Opacity\\images\\Lung_Opacity-10.png\")\n",
    "\n",
    "print(\"Le format de l'image est : \", img.shape)\n",
    "\n",
    "\n",
    "# Split\n",
    "red = img[:, :, 0]\n",
    "green = img[:, :, 1]\n",
    "blue = img[:, :, 2]\n",
    "\n",
    "\n",
    "\n",
    "colormap = cv2.applyColorMap(img, cv2.COLORMAP_BONE)\n",
    "\n",
    "fig, ((ax1, ax2,ax3, ax4)) = plt.subplots(ncols=4, nrows=1)\n",
    "ax1.imshow(img)\n",
    "\n",
    "ax2.imshow(red, cmap='Reds')\n",
    "\n",
    "ax3.imshow(green, cmap='Greens')\n",
    "\n",
    "ax4.imshow(blue, cmap=\"Blues\")\n",
    "\n",
    "\n",
    "for ax in fig.get_axes():\n",
    "    ax.label_outer(),\n",
    "    ax.ticks=\"\",\n",
    "    ax.axis('off')\n",
    "\n",
    "#Visuellement il semble y avoir peu de différence entre l'image en nuance de gris ou en couleur, on part dans un premier temps sur les données en gris\n"
   ]
  },
  {
   "cell_type": "code",
   "execution_count": null,
   "metadata": {},
   "outputs": [],
   "source": [
    " # On lit le masque correspondant et on l'applique\n",
    "\n",
    "mask_grey = cv2.imread(r\"./COVID-19_Radiography_Dataset\\Lung_Opacity\\masks\\Lung_Opacity-10.png\")\n",
    "\n",
    "print(\"Le format du masque est : \", mask_grey.shape)\n",
    "\n",
    "plt.imshow(mask_grey,cmap=\"gray\")\n"
   ]
  },
  {
   "cell_type": "code",
   "execution_count": null,
   "metadata": {},
   "outputs": [],
   "source": [
    "\n",
    "# On applique le masque \n",
    "\n",
    "# On redimensionne le masque au format de l image car l'un est en 256*256 l'autre en 299*299\n",
    "\n",
    "mask_grey2 = cv2.resize(mask_grey, dsize = img_grey.shape[:2])\n",
    "\n",
    "# \n",
    "masked_image = cv2.bitwise_and(img_grey, mask_grey2) # pour masquer mon_image\n",
    "\n",
    "plt.imshow(masked_image,cmap=\"gray\")"
   ]
  },
  {
   "cell_type": "code",
   "execution_count": null,
   "metadata": {},
   "outputs": [],
   "source": [
    "# On essaye pour voir s'il ne vaut pas mieux redimensionner l'image \n",
    "\n",
    "img_grey2 = cv2.resize(img_grey, dsize = mask_grey.shape[:2])\n",
    "\n",
    "# \n",
    "masked_image2 = cv2.bitwise_and(img_grey2, mask_grey) # pour masquer mon_image\n",
    "\n",
    "plt.imshow(masked_image2,cmap=\"gray\")"
   ]
  },
  {
   "cell_type": "code",
   "execution_count": null,
   "metadata": {},
   "outputs": [],
   "source": [
    "# On applique une normalisation de gauss\n",
    "\n",
    "gauss_image = cv2.GaussianBlur(masked_image, ksize = (3,3), sigmaX=0.2)\n",
    "\n",
    "plt.imshow(gauss_image,cmap=\"gray\")\n",
    "\n",
    "# Peut être serait il utile de passer en negatif\n",
    "# gauss_image_neg = 255 - gauss_image\n",
    "# plt.imshow(gauss_image_neg,cmap=\"gray\")\n",
    "\n",
    "# A creuser pour s avoir s il serait utile d'utilise erode pour supprimer les electrodes\n",
    "# ou threshold pour supprimer ce qui est trop blanc ?"
   ]
  },
  {
   "cell_type": "markdown",
   "metadata": {},
   "source": [
    "Il faut a present stocker l image dans un vecteur"
   ]
  },
  {
   "cell_type": "code",
   "execution_count": null,
   "metadata": {},
   "outputs": [],
   "source": [
    "# On la transforme en format \n",
    "\n",
    "a = np.arange(6).reshape((3, 2))\n",
    "\n",
    "print(a)\n",
    "\n",
    "a.reshape(6)\n",
    "\n",
    "# On transforme en vecteur \n",
    "gauss_vector = gauss_image.reshape(1,gauss_image.shape[0]*gauss_image.shape[1])\n",
    "\n",
    "gauss_df  = pd.DataFrame(gauss_vector)\n",
    "\n",
    "gauss_df[\"id\"] = (\"lung_opacity10\")\n",
    "gauss_df[\"type\"] = (\"lung_opacity\")\n",
    "#gauss_df[\"id\",\"type\"]= (\"lung opacity\"\n",
    "\n",
    "gauss_df.set_index(\"id\")\n",
    "\n",
    "#gauss_line.append([gauss_vector])\n",
    "\n",
    "gauss_df\n"
   ]
  },
  {
   "cell_type": "code",
   "execution_count": null,
   "metadata": {},
   "outputs": [],
   "source": [
    "# On stocle le df de lung opacity\n",
    "\n",
    "df_lung_opacity = df"
   ]
  },
  {
   "cell_type": "markdown",
   "metadata": {},
   "source": [
    "# Import de l'ensemble des données\n",
    "\n",
    "## On importe les images en les preprocessant\n",
    "### Application du masque\n",
    "### Application d'un filtre gaussien\n",
    "### On transforme le tout en dataset\n"
   ]
  },
  {
   "cell_type": "code",
   "execution_count": null,
   "metadata": {},
   "outputs": [],
   "source": [
    "df  = None\n",
    "\n",
    "for type in  [\"Lung_Opacity\",\"COVID\",\"Normal\",\"Viral_Pneumonia\"] :\n",
    "    print(type)\n",
    "    list = os.listdir(os.path.join(\"./COVID-19_Radiography_Dataset\",type,\"images\"))\n",
    "    #print(list[:10])\n",
    "\n",
    "   # On peut eventuellement reduire le dataset en prenant max 4000 images par groupe\n",
    "   #  if len(list)>4000 :\n",
    "   #     new_list = list[0:2000] + (list[-2000:])\n",
    "   #  else:\n",
    "   #     new_list = list\n",
    "    for filename in list :\n",
    "        #print(type,filename,os.path.join(\"./COVID-19_Radiography_Dataset\",type,\"images\",filename))\n",
    "        img = cv2.imread(os.path.join(\"./COVID-19_Radiography_Dataset\",type,\"images\",filename),cv2.IMREAD_GRAYSCALE) # import de l'image\n",
    "        mask = cv2.imread(os.path.join(\"./COVID-19_Radiography_Dataset\",type,\"masks\",filename),cv2.IMREAD_GRAYSCALE) # import du masque \n",
    "        mask2 = cv2.resize(mask, dsize = img.shape[:2])  # pour remettre les dimensions du masque à celle de l'image\n",
    "        masked_img = cv2.bitwise_and(img, mask2) # pour masquer l'image\n",
    "        #plt.imshow(masked_img,cmap=\"gray\")\n",
    "        gauss_img = cv2.GaussianBlur(masked_img, ksize = (3,3), sigmaX=0.2)\n",
    "        gauss_img2 = cv2.resize(gauss_img, dsize = (100,100))\n",
    "        gauss_df = pd.DataFrame(gauss_img2.reshape(1,gauss_img2.shape[0]*gauss_img2.shape[1]),index = [filename.split(\".\")[0]])\n",
    "        #gauss_df[\"id\"] = filename.split(\".\")[0]\n",
    "        gauss_df[\"type\"] = type\n",
    "        \n",
    "        if df is None :\n",
    "           df  = gauss_df\n",
    "        \n",
    "        else:\n",
    "        \n",
    "           df = pd.concat([df, gauss_df])\n",
    "\n",
    "\n",
    "    "
   ]
  },
  {
   "cell_type": "code",
   "execution_count": null,
   "metadata": {},
   "outputs": [],
   "source": [
    "df.shape\n",
    "\n",
    "# listeA = list[0:2000]\n",
    "# listeB = list[-2000:]\n",
    "# listeC = listeA + listeB\n",
    "\n",
    "# #print(listeA)\n",
    "# #print(listeB)\n",
    "# tail(listeC)\n"
   ]
  },
  {
   "cell_type": "markdown",
   "metadata": {},
   "source": [
    "# On importe les metadonnées "
   ]
  },
  {
   "cell_type": "code",
   "execution_count": null,
   "metadata": {},
   "outputs": [],
   "source": [
    "# ! pip install openpyxl\n",
    "\n",
    "all_meta = None\n",
    "\n",
    "path\n",
    "\n",
    "for type in  [\"Lung_Opacity\",\"COVID\",\"Normal\",\"Viral_Pneumonia\"] :\n",
    "    print(type)\n",
    "    namefile= type + \".metadata\" + \".xlsx\"\n",
    "    file = os.path.join(path,namefile)\n",
    "    print(file)\n",
    "    meta = pd.read_excel(file)\n",
    "    if all_meta is None :\n",
    "        all_meta  = meta\n",
    "    else:\n",
    "        all_meta = pd.concat([all_meta, meta])\n",
    "\n",
    "# On recree une colonne types et une colonne numéro\n",
    "# Car normal est ici ecrit en majuscule\n",
    "\n",
    "all_meta[\"TYPE\"] = all_meta[\"FILE NAME\"].str.split(\"-\", expand=True)[0]\n",
    "all_meta[\"num\"] = all_meta[\"FILE NAME\"].str.split(\"-\", expand=True)[1]\n"
   ]
  },
  {
   "cell_type": "code",
   "execution_count": null,
   "metadata": {},
   "outputs": [],
   "source": [
    "# On explore les metadata\n",
    "display(all_meta.head())\n",
    "display(all_meta.info())\n",
    "\n",
    "# On affiche les nombres d occurences\n",
    "all_meta[\"FORMAT\"].value_counts()\n",
    "all_meta[\"SIZE\"].value_counts()\n",
    "all_meta[\"URL\"].value_counts()\n",
    "all_meta[\"TYPE\"].value_counts()\n",
    "\n",
    "# On renomme la variable URL\n",
    "all_meta.replace({\n",
    "\"https://www.kaggle.com/c/rsna-pneumonia-detection-challenge/data\" : \"rnsa\",\n",
    "\"https://www.kaggle.com/paultimothymooney/chest-xray-pneumonia\" : \"pneumonia-chestxray\",                     \n",
    "\"https://bimcv.cipf.es/bimcv-projects/bimcv-covid19/#1590858128006-9e640421-6711\"  : \"bimcv\",\n",
    "\"https://github.com/armiro/COVID-CXNet\" : \"CXNet\",\n",
    "\"https://eurorad.org\" : \"eurorad\",                                                            \n",
    "\"https://github.com/ml-workgroup/covid-19-image-repository/tree/master/png\"  : \"ml-workgroup\",\n",
    "\"https://github.com/ieee8023/covid-chestxray-dataset\" : \"covid-chestxray\",\n",
    "\"https://sirm.org/category/senza-categoria/covid-19/\" : \"senza\",\n",
    "\"NORMAL\" : \"Normal\"\n",
    "},\n",
    "inplace = True\n",
    ")\n",
    "\n",
    "print(all_meta[\"URL\"].value_counts())\n",
    "\n",
    "print(all_meta[\"TYPE\"].value_counts())\n",
    "\n",
    "# On remet un nom coherent\n",
    "\n",
    "all_meta[\"FILENAME\"] = all_meta[\"TYPE\"] +  \"-\" +  all_meta[\"num\"]\n",
    "\n",
    "all_meta =  all_meta.drop(\"FILE NAME\", axis=1)\n",
    "all_meta = all_meta.set_index(\"FILENAME\")\n",
    "\n",
    "display(all_meta.head())\n",
    "\n",
    "# On verifie une eventuelle confusion entre url et type\n",
    "\n",
    "tableau = pd.crosstab(all_meta[\"URL\"], all_meta[\"TYPE\"])\n",
    "display(tableau)\n"
   ]
  },
  {
   "cell_type": "markdown",
   "metadata": {},
   "source": [
    "## Comptage du nombre d'image par catégorie et par source"
   ]
  },
  {
   "cell_type": "code",
   "execution_count": null,
   "metadata": {},
   "outputs": [],
   "source": [
    "# On fait un comptage du nombre de données par url et par type\n",
    "\n",
    "sns.countplot(data=all_meta, x=\"TYPE\", hue=\"URL\")\n",
    "plt.legend(loc='best')"
   ]
  },
  {
   "cell_type": "code",
   "execution_count": null,
   "metadata": {},
   "outputs": [],
   "source": [
    "# On fait un comptage du nombre de données par url et par type\n",
    "plt.figure(figsize=(10,10))\n",
    "sns.countplot(data=all_meta, x=\"TYPE\", hue=\"URL\", dodge=False)\n",
    "plt.legend(loc='best')\n",
    "\n",
    "\n",
    "fig, ((ax1, ax2)) = plt.subplots(ncols = 2, nrows = 1, figsize=(20,10))\n",
    "fig.suptitle('Origine des données et catégories')\n",
    "\n",
    "sns.countplot(data=all_meta,ax=ax1, x=\"TYPE\", hue=\"URL\", dodge=False)\n",
    "plt.legend(loc='best')\n",
    "ax1.set_title(\"Ensemble des données\")\n",
    "\n",
    "dataCOVID = all_meta[all_meta[\"TYPE\"]==\"COVID\"]\n",
    "sns.countplot(data=dataCOVID, ax=ax2,  x=\"TYPE\", hue=\"URL\")\n",
    "ax2.set_title(\"Focus sur la catégorie COVID\")\n",
    "plt.legend(loc='best')\n"
   ]
  },
  {
   "cell_type": "code",
   "execution_count": null,
   "metadata": {},
   "outputs": [],
   "source": [
    "# On fusionne les metadata avec les data\n",
    "\n",
    "all = all_meta.merge(right=df, how= \"inner\", left_index=True, right_index=True)\n",
    "\n",
    "# On supprime type qui se retrouve en doublon\n",
    "all = all.drop(\"type\",axis=1)\n",
    "\n",
    "display(all.head())\n",
    "\n",
    "# On exporte le jeu de données complets\n",
    "all.to_csv(\"radio_tab.csv\") \n"
   ]
  },
  {
   "cell_type": "markdown",
   "metadata": {},
   "source": [
    "## Visualisation des images moyennes"
   ]
  },
  {
   "cell_type": "code",
   "execution_count": null,
   "metadata": {},
   "outputs": [],
   "source": [
    "# # On enleve les variables descriptives\n",
    "\n",
    "all[\"TARGET\"] = all[\"URL\"] + \"_\" + all[\"TYPE\"]\n",
    "\n",
    "X = all.loc[:,0:].drop(\"TARGET\",axis=1)\n",
    "y = all.TYPE\n",
    "\n",
    "X.head()\n",
    "\n",
    "# # # On fait une image moyenne par type \n",
    "\n",
    "i=1\n",
    "for i in range(4) :\n",
    "    # Sélection des lignes de X_train correspondant au label i\n",
    "    type = [\"Lung_Opacity\",\"COVID\",\"Normal\",\"Viral Pneumonia\"][i]\n",
    "    t = X[y == type]\n",
    "    # Calcul de l'image moyenne\n",
    "    moy_img = t.mean(axis=0)\n",
    "    img =  moy_img.values.reshape(100,100)\n",
    "    # Affichage de l'image dans le i+1-ème emplacement d'une grille de figures\n",
    "    # à 2 lignes et 2 colonnes. \n",
    "    #plt.figure(figsize=(20,20))  \n",
    "    plt.subplot(2, 2, i+1)\n",
    "    plt.axis('off')\n",
    "    plt.imshow(img, cmap=\"gray\", interpolation='None')\n",
    "    plt.title(type)\n",
    "    #print(img)\n",
    "# img\n",
    "\n"
   ]
  },
  {
   "cell_type": "code",
   "execution_count": null,
   "metadata": {},
   "outputs": [],
   "source": [
    "\n",
    "# # On fait une moyenne par source \n",
    "\n",
    "all[\"TARGET\"] = all[\"TYPE\"] + \"_\" + all[\"URL\"]\n",
    "\n",
    "url_type = all.TARGET\n",
    "\n",
    "\n",
    "\n",
    "plt.figure(figsize=(20,20))\n",
    "\n",
    "print(all.TARGET.nunique())\n",
    "\n",
    "i=1\n",
    "j=1\n",
    "for type in all.TYPE.unique() :\n",
    "    #plt.subplot(3, 5, i+1)\n",
    "    N = all[all.TYPE == type].URL.nunique()\n",
    "    j = 1\n",
    "    print(N)\n",
    "    plt.figure(figsize=(5,5*N))\n",
    "    print(type, N, all[all.TYPE == type].URL.unique())\n",
    "    for url in all[all.TYPE == type].URL.unique():\n",
    "        target = type + \"_\" + url\n",
    "        t = X[url_type == target]\n",
    "        # Calcul de l'image moyenne\n",
    "        moy_img = t.mean(axis=0)\n",
    "        img =  moy_img.values.reshape(100,100)\n",
    "        # Affichage de l'image dans le i+1-ème emplacement d'une grille de figures\n",
    "        # à 2 lignes et 2 colonnes. \n",
    "        #plt.figure(figsize=(20,20))  \n",
    "        plt.subplot(1, N, j)\n",
    "        plt.axis('off')\n",
    "        plt.imshow(img, cmap=\"gray\", interpolation='None')\n",
    "        plt.title(target)\n",
    "        j+=1\n",
    "        print(target)\n",
    "\n",
    "\n",
    "plt.show()\n",
    "# img"
   ]
  },
  {
   "cell_type": "code",
   "execution_count": null,
   "metadata": {},
   "outputs": [],
   "source": [
    "for type in [\"Normal\"] :\n",
    "    #plt.subplot(3, 5, i+1)\n",
    "    N = all[all.TYPE == type].URL.nunique()\n",
    "    j = 1\n",
    "    print(N)\n",
    "    plt.figure(figsize=(5*N,5))\n",
    "    print(type, N, all[all.TYPE == type].URL.unique())\n",
    "    for url in all[all.TYPE == type].URL.unique():\n",
    "        target = type + \"_\" + url\n",
    "        t = X[url_type == target]\n",
    "        # Calcul de l'image moyenne\n",
    "        moy_img = t.mean(axis=0)\n",
    "        img =  moy_img.values.reshape(100,100)\n",
    "        # Affichage de l'image dans le i+1-ème emplacement d'une grille de figures\n",
    "        # à 2 lignes et 2 colonnes. \n",
    "        #plt.figure(figsize=(20,20))  \n",
    "        plt.subplot(N, 1, j)\n",
    "        plt.axis('off')\n",
    "        plt.imshow(img, cmap=\"gray\", interpolation='None')\n",
    "        plt.title(target)\n",
    "        j+=1\n",
    "        print(target)\n",
    "\n",
    "plt.show()\n",
    "\n"
   ]
  },
  {
   "cell_type": "code",
   "execution_count": null,
   "metadata": {},
   "outputs": [],
   "source": [
    "for type in [\"COVID\"] :\n",
    "    #plt.subplot(3, 5, i+1)\n",
    "    N = all[all.TYPE == type].URL.nunique()\n",
    "    j = 1\n",
    "    print(N)\n",
    "    plt.figure(figsize=(20*N,20))\n",
    "    print(type, N, all[all.TYPE == type].URL.unique())\n",
    "    for url in all[all.TYPE == type].URL.unique():\n",
    "        target = type + \"_\" + url\n",
    "        t = X[url_type == target]\n",
    "        # Calcul de l'image moyenne\n",
    "        moy_img = t.mean(axis=0)\n",
    "        img =  moy_img.values.reshape(100,100)\n",
    "        # Affichage de l'image dans le i+1-ème emplacement d'une grille de figures\n",
    "        # à 2 lignes et 2 colonnes. \n",
    "        #plt.figure(figsize=(20,20))  \n",
    "        plt.subplot(N, 1, j)\n",
    "        plt.axis('off')\n",
    "        plt.imshow(img, cmap=\"gray\", interpolation='None')\n",
    "        plt.title(target)\n",
    "        j+=1\n",
    "        print(target)\n",
    "\n",
    "plt.show()\n"
   ]
  },
  {
   "cell_type": "code",
   "execution_count": null,
   "metadata": {},
   "outputs": [],
   "source": [
    "for type in [\"Lung_Opacity\"] :\n",
    "    #plt.subplot(3, 5, i+1)\n",
    "    N = all[all.TYPE == type].URL.nunique()\n",
    "    j = 1\n",
    "    print(N)\n",
    "    plt.figure(figsize=(5*N,5))\n",
    "    print(type, N, all[all.TYPE == type].URL.unique())\n",
    "    for url in all[all.TYPE == type].URL.unique():\n",
    "        target = type + \"_\" + url\n",
    "        t = X[url_type == target]\n",
    "        # Calcul de l'image moyenne\n",
    "        moy_img = t.mean(axis=0)\n",
    "        img =  moy_img.values.reshape(100,100)\n",
    "        # Affichage de l'image dans le i+1-ème emplacement d'une grille de figures\n",
    "        # à 2 lignes et 2 colonnes. \n",
    "        #plt.figure(figsize=(20,20))  \n",
    "        plt.subplot(1, N, j)\n",
    "        plt.axis('off')\n",
    "        plt.imshow(img, cmap=\"gray\", interpolation='None')\n",
    "        plt.title(target)\n",
    "        j+=1\n",
    "        print(target)\n",
    "\n",
    "plt.show()"
   ]
  },
  {
   "cell_type": "code",
   "execution_count": null,
   "metadata": {},
   "outputs": [],
   "source": [
    "for type in [\"Viral Pneumonia\"] :\n",
    "    #plt.subplot(3, 5, i+1)\n",
    "    N = all[all.TYPE == type].URL.nunique()\n",
    "    j = 1\n",
    "    print(N)\n",
    "    plt.figure(figsize=(5*N,5))\n",
    "    print(type, N, all[all.TYPE == type].URL.unique())\n",
    "    for url in all[all.TYPE == type].URL.unique():\n",
    "        target = type + \"_\" + url\n",
    "        t = X[url_type == target]\n",
    "        # Calcul de l'image moyenne\n",
    "        moy_img = t.mean(axis=0)\n",
    "        img =  moy_img.values.reshape(100,100)\n",
    "        # Affichage de l'image dans le i+1-ème emplacement d'une grille de figures\n",
    "        # à 2 lignes et 2 colonnes. \n",
    "        #plt.figure(figsize=(20,20))  \n",
    "        plt.subplot(1, N, j)\n",
    "        plt.axis('off')\n",
    "        plt.imshow(img, cmap=\"gray\", interpolation='None')\n",
    "        plt.title(target)\n",
    "        j+=1\n",
    "        print(target)\n",
    "\n",
    "plt.show()"
   ]
  },
  {
   "cell_type": "code",
   "execution_count": null,
   "metadata": {},
   "outputs": [],
   "source": [
    "# # On fait une moyenne par source * type \n",
    "N = all.URL.nunique()\n",
    "list = all.URL.unique()\n",
    "source = all.URL\n",
    "\n",
    "print(N, list)\n",
    "i=1\n",
    "for i in range(all.URL.nunique()) :\n",
    "    # Sélection des lignes de X_train correspondant au label i\n",
    "    url = all.URL.unique()[i]\n",
    "    t = X[source == url]\n",
    "    # Calcul de l'image moyenne\n",
    "    moy_img = t.mean(axis=0)\n",
    "    img =  moy_img.values.reshape(100,100)\n",
    "    # Affichage de l'image dans le i+1-ème emplacement d'une grille de figures\n",
    "    # à 2 lignes et 2 colonnes. \n",
    "    #plt.figure(figsize=(20,20))  \n",
    "    plt.subplot(2, 4, i+1)\n",
    "    plt.axis('off')\n",
    "    plt.imshow(img, cmap=\"gray\", interpolation='None')\n",
    "    plt.title(url)\n",
    "    #print(img)\n",
    "# img\n"
   ]
  },
  {
   "cell_type": "code",
   "execution_count": null,
   "metadata": {},
   "outputs": [],
   "source": [
    "# # On fait une moyenne par  type \n",
    "N = all.TYPE.nunique()\n",
    "list = all.TYPE.unique()\n",
    "source = all.TYPE\n",
    "\n",
    "print(N, list)\n",
    "i=1\n",
    "for i in range(all.TYPE.nunique()) :\n",
    "    # Sélection des lignes de X_train correspondant au label i\n",
    "    url = all.TYPE.unique()[i]\n",
    "    t = X[source == url]\n",
    "    # Calcul de l'image moyenne\n",
    "    moy_img = t.mean(axis=0)\n",
    "    img =  moy_img.values.reshape(100,100)\n",
    "    # Affichage de l'image dans le i+1-ème emplacement d'une grille de figures\n",
    "    # à 2 lignes et 2 colonnes. \n",
    "    #plt.figure(figsize=(20,20))  \n",
    "    plt.subplot(2, 2, i+1)\n",
    "    plt.axis('off')\n",
    "    plt.imshow(img, cmap=\"gray\", interpolation='None')\n",
    "    plt.title(url)\n",
    "    #print(img)\n",
    "# img\n",
    "plt.show()"
   ]
  },
  {
   "cell_type": "markdown",
   "metadata": {},
   "source": [
    "## On supprime les variables identiques pour tout le monde"
   ]
  },
  {
   "cell_type": "code",
   "execution_count": null,
   "metadata": {},
   "outputs": [],
   "source": [
    "\n",
    "#display(data.describe())\n",
    "\n",
    "# On voit si on peut eliminer les colonnes non variables\n",
    "data = df.loc[:, (df != df.iloc[0]).any()] \n",
    "\n",
    "print(\"On elimine\", df.shape[1] - data.shape[1], \"variables identiques pour tous les échantillons\")\n",
    "# ça ne vaut donc pas réellement le coup...\n",
    "\n",
    "\n"
   ]
  },
  {
   "cell_type": "markdown",
   "metadata": {},
   "source": [
    "## Dispersion des données par groupe"
   ]
  },
  {
   "cell_type": "code",
   "execution_count": null,
   "metadata": {},
   "outputs": [],
   "source": [
    "# On fait les moyennes et écart types pour chaque ligne \n",
    "\n",
    "stat = X.agg([\"mean\", \"std\"], axis=1)"
   ]
  },
  {
   "cell_type": "code",
   "execution_count": null,
   "metadata": {},
   "outputs": [],
   "source": [
    "sns.relplot(data=stat, x = \"mean\", y=\"std\", col = all.TYPE, hue = all.TYPE, hue_order=[\"COVID\",\"Lung_Opacity\",\"Normal\",\"Viral Pneumonia\"], col_wrap=2)\n",
    "plt.show()"
   ]
  },
  {
   "cell_type": "markdown",
   "metadata": {},
   "source": [
    "## Nombre de données par catégories, moyennes et écart-type"
   ]
  },
  {
   "cell_type": "code",
   "execution_count": null,
   "metadata": {},
   "outputs": [],
   "source": [
    "# On crée un jeu de données ne contenant plus que la catégorie et les pixels\n",
    "data = all.drop([\"FORMAT\", \"SIZE\", \"URL\", \"num\", \"TARGET\"], axis=1)\n",
    "\n",
    "# On compte le nombre d'occurrence par groupe\n",
    "\n",
    "sns.countplot(data=data,x=\"TYPE\",hue=\"TYPE\")\n",
    "plt.title(\"Répartition des données par groupe\")\n",
    "\n",
    "# On fait la moyenne des valeurs et écart type par groupe\n",
    "print(\"Moyenne des valeurs par catégorie\")\n",
    "display(data.groupby(\"TYPE\").mean().mean(axis=1))\n",
    "print(\"Ecart type des moyennes par catégorie\")\n",
    "display(data.groupby(\"TYPE\").mean().std(axis=1))\n"
   ]
  },
  {
   "cell_type": "markdown",
   "metadata": {},
   "source": [
    "## Visualiser une différence dans les valeurs des différents pixels selon les catégories\n",
    "On trace un graph de la moyenne par pixel par groupe"
   ]
  },
  {
   "cell_type": "code",
   "execution_count": null,
   "metadata": {},
   "outputs": [],
   "source": [
    "# On groupe par catégorie et on fait une moyenne par pixel\n",
    "\n",
    "data_grouped = data.groupby(\"TYPE\").agg(\"mean\")\n",
    "\n",
    "data_grouped.head()\n",
    "\n",
    "\n",
    "# On met les catégories comme variables\n",
    "\n",
    "group2 = data_grouped.unstack().reset_index()\n",
    "\n",
    "display(group2.head())"
   ]
  },
  {
   "cell_type": "code",
   "execution_count": null,
   "metadata": {},
   "outputs": [],
   "source": [
    "sns.relplot(data=group2, x = \"level_0\", y= 0, col='TYPE',hue=\"TYPE\", col_wrap=2)\n",
    "plt.xlabel(\"pixel\")\n",
    "plt.ylabel(\"valeur moyenne\")\n",
    "\n",
    "plt.show()"
   ]
  },
  {
   "cell_type": "markdown",
   "metadata": {},
   "source": [
    "On visualise sous forme de boxplot"
   ]
  },
  {
   "cell_type": "code",
   "execution_count": null,
   "metadata": {},
   "outputs": [],
   "source": [
    "# Autre option on transpose ce qui permet de gérer les données plus facilement\n",
    "moyenne = data_grouped.transpose()\n",
    "\n",
    "display(moyenne.head())"
   ]
  },
  {
   "cell_type": "code",
   "execution_count": null,
   "metadata": {},
   "outputs": [],
   "source": [
    "sns.boxplot(moyenne)\n",
    "\n",
    "display(moyenne.describe())"
   ]
  },
  {
   "cell_type": "code",
   "execution_count": null,
   "metadata": {},
   "outputs": [],
   "source": [
    "sns.boxenplot(moyenne)"
   ]
  }
 ],
 "metadata": {
  "kernelspec": {
   "display_name": "RadioPulmonaire",
   "language": "python",
   "name": "python3"
  },
  "language_info": {
   "codemirror_mode": {
    "name": "ipython",
    "version": 3
   },
   "file_extension": ".py",
   "mimetype": "text/x-python",
   "name": "python",
   "nbconvert_exporter": "python",
   "pygments_lexer": "ipython3",
   "version": "3.12.7"
  }
 },
 "nbformat": 4,
 "nbformat_minor": 2
}
