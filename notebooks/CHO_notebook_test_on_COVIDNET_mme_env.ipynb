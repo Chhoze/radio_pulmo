{
 "cells": [
  {
   "cell_type": "markdown",
   "metadata": {},
   "source": [
    "# Test des modeles de segmentation et classification sur le nouveau dataset\n",
    "Au prealable, on a selectionne 723 images non redondantes avec le dataset initial depuis le jeu de donnees COVIDNET\n",
    "On conserve les sources actmed, fig1, cohen\n"
   ]
  },
  {
   "cell_type": "code",
   "execution_count": null,
   "metadata": {},
   "outputs": [],
   "source": [
    "import os\n",
    "import pandas as pd\n",
    "import tensorflow as tf\n",
    "import matplotlib.pyplot as plt\n",
    "import random\n",
    "import cv2\n",
    "import numpy as np\n",
    "from PIL import Image\n",
    "\n",
    "%matplotlib inline\n",
    "from tensorflow.keras.models import *\n",
    "from tensorflow.keras.layers import *\n",
    "from tensorflow.keras.optimizers import *\n",
    "from tensorflow.keras import backend as keras\n",
    "from tensorflow.keras.preprocessing.image import ImageDataGenerator\n",
    "from tensorflow.keras.callbacks import ModelCheckpoint, LearningRateScheduler\n",
    "\n"
   ]
  },
  {
   "cell_type": "code",
   "execution_count": 4,
   "metadata": {},
   "outputs": [],
   "source": [
    "# Import des donnees \n",
    "\n",
    "path = r\"C:\\Users\\Inrae\\Documents\\Projet_Data_Science\\COVID_NET\\BIMCV\"\n",
    "dim=256\n",
    "final_size=(dim, dim)\n",
    "\n",
    "# Import des données on sépare entre apprentissage et validation\n",
    "batch_size=32\n",
    "size=final_size\n",
    "\n",
    "# Nombre de donnes max par categorie\n",
    "size_max_cat = 2000\n",
    "\n"
   ]
  },
  {
   "cell_type": "markdown",
   "metadata": {},
   "source": [
    "## Import des fichiers"
   ]
  },
  {
   "cell_type": "code",
   "execution_count": 7,
   "metadata": {},
   "outputs": [],
   "source": [
    "def getData(X_shape, N = None):\n",
    "    im_array = []\n",
    "    target_array = []\n",
    "\n",
    "    for cat in [\"positive\", \"negative\"]:       \n",
    "        image_path = os.path.join(path,cat)\n",
    "        target = cat\n",
    "        files = os.listdir(image_path)\n",
    "        random.Random(1337).shuffle(files)\n",
    "        \n",
    "        if (N is None):\n",
    "            N = len(files)\n",
    "        else:\n",
    "            N = min(N, len(files))\n",
    "        for i in files[:N]: \n",
    "            im = cv2.resize(cv2.imread(os.path.join(image_path,i)),(X_shape,X_shape))[:,:,0]\n",
    "            target=cat\n",
    "            im_array.append(im)\n",
    "            target_array.append(target)\n",
    "            \n",
    "    images = np.array(im_array).reshape(len(im_array),dim,dim,1)\n",
    "    return images, target_array\n"
   ]
  },
  {
   "cell_type": "code",
   "execution_count": null,
   "metadata": {},
   "outputs": [],
   "source": [
    "# Importing data\n",
    "dim = 256\n",
    "images, labels = getData(dim,N=size_max_cat)\n",
    "\n",
    "print(\"dataset size : images\", images.shape, \"labels\", len(labels))\n"
   ]
  },
  {
   "cell_type": "code",
   "execution_count": null,
   "metadata": {},
   "outputs": [],
   "source": [
    "# On verifie que l'import s'est bien passé\n",
    "i=3\n",
    "\n",
    "plt.imshow(images[3], cmap=\"gray\")\n",
    "plt.axis(\"off\")\n",
    "plt.title(labels[3])\n",
    "plt.show()"
   ]
  },
  {
   "cell_type": "markdown",
   "metadata": {},
   "source": [
    "## Segmentation : Génération des masques"
   ]
  },
  {
   "cell_type": "code",
   "execution_count": null,
   "metadata": {},
   "outputs": [],
   "source": [
    "# Import du modèle\n",
    "model_seg = tf.keras.models.load_model(\"cxr_reg_segmentation.best.keras\")"
   ]
  },
  {
   "cell_type": "code",
   "execution_count": null,
   "metadata": {},
   "outputs": [],
   "source": [
    "# Calcul des masques\n",
    "\n",
    "images_scaled = (images-127)/127\n",
    "\n",
    "print(\"Shape de image_scaled: \", images_scaled.shape, \"type de image_scaled: \", images_scaled.dtype)\n",
    "\n",
    "# # On predit sur dataset\n",
    "masks = model_seg.predict(images_scaled)\n",
    "\n",
    "# On convertit en 0-255\n",
    "\n",
    "masks[masks>0.5] = 255\n",
    "masks[masks<=0.5] = 0\n",
    "\n"
   ]
  },
  {
   "cell_type": "markdown",
   "metadata": {},
   "source": [
    "#  Masquage des images"
   ]
  },
  {
   "cell_type": "code",
   "execution_count": null,
   "metadata": {},
   "outputs": [],
   "source": [
    "# Preparation des donnees, on masque les images\n",
    "masked_image_array=[]\n",
    "\n",
    "for i in range(images.shape[0]) : \n",
    "    img = images[i]\n",
    "    msk = masks[i].astype(img.dtype)\n",
    "    masked_image = cv2.bitwise_and(img, msk)\n",
    "    masked_image = cv2.resize(masked_image, dsize = (224, 224))\n",
    "    masked_image = cv2.cvtColor(masked_image, cv2.COLOR_GRAY2RGB)\n",
    "    masked_image_array.append(masked_image)\n",
    "\n",
    "masked_images = np.array(masked_image_array).reshape(len(masked_image_array),224,224,3)\n",
    "\n",
    "import random\n",
    "import matplotlib.pyplot as plt\n",
    "\n",
    "# On trace le graph pour 3 images\n",
    "\n",
    "fig, axs = plt.subplots(3, 3, figsize=(9, 9))\n",
    "\n",
    "for i in range(0, 9, 3):\n",
    "    j = random.randint(0, len(labels)-1)\n",
    "    \n",
    "    axs[i//3, 0].imshow(images[j], cmap='gray')\n",
    "    axs[i//3, 0].set_xlabel(\"Base Image\")\n",
    "    axs[i//3, 0].axis(\"off\")\n",
    "   \n",
    "    axs[i//3, 1].imshow(masks[j])\n",
    "    axs[i//3, 1].set_xlabel(\"Predicted Mask\")\n",
    "    axs[i//3, 1].axis(\"off\")\n",
    "    \n",
    "    axs[i//3, 2].imshow(masked_images[j])\n",
    "    axs[i//3, 2].set_xlabel(\"Masked Images\")\n",
    "    axs[i//3, 2].axis(\"off\")\n",
    "\n",
    "plt.tight_layout()\n",
    "plt.show()\n",
    "\n"
   ]
  },
  {
   "cell_type": "code",
   "execution_count": null,
   "metadata": {},
   "outputs": [],
   "source": [
    "# Export des images masquées \n",
    "\n",
    "for i, img_array in enumerate(masked_images):\n",
    "    # Convertir l'image de prédiction en format de type uint8\n",
    "    img_array = (img_array * 255).astype(np.uint8)\n",
    "    \n",
    "    # Créer une image PIL à partir du tableau NumPy\n",
    "    img = Image.fromarray(img_array)\n",
    "    subfolder=labels[i]\n",
    "    output_folder = os.path.join(mainpath,\"processedBIM\",subfolder)\n",
    "    if not os.path.exists(output_folder):\n",
    "        os.makedirs(output_folder)\n",
    "\n",
    "    # Enregistrer l'image dans le dossier\n",
    "    img.save(os.path.join(output_folder, f'image_{i+1}.png'))\n",
    "\n",
    "print(f\"Images sauvegardées dans le dossier '{output_folder}'.\")"
   ]
  },
  {
   "cell_type": "markdown",
   "metadata": {},
   "source": [
    "# Application du modèle de classification"
   ]
  },
  {
   "cell_type": "code",
   "execution_count": 21,
   "metadata": {},
   "outputs": [],
   "source": [
    "# On charge le modèle\n",
    "\n",
    "clf_model =  tf.keras.models.load_model(\"../models/EfficientNetB4_masked-Covid-19_masked-91.45.keras\")\n"
   ]
  },
  {
   "cell_type": "code",
   "execution_count": null,
   "metadata": {},
   "outputs": [],
   "source": [
    "# On fait les predictions\n",
    "print(\"tailles fichiers images:\", masked_images.shape, \"taille de labels : \", len(labels))\n",
    "\n",
    "# On fait les predictions\n",
    "\n",
    "labels_pred = clf_model.predict(masked_images)"
   ]
  },
  {
   "cell_type": "code",
   "execution_count": null,
   "metadata": {},
   "outputs": [],
   "source": [
    "y_pred = np.argmax(labels_pred, axis=1).astype(\"str\")\n",
    "\n",
    "y_pred[y_pred == '0'] = \"COVID\"\n",
    "y_pred[y_pred == '1'] = \"Lung_Opacity\"\n",
    "y_pred[y_pred == '2'] = \"Normal\"\n",
    "y_pred[y_pred == '3'] = \"Viral Pneumonia\"\n",
    "\n",
    "# On reconvertit labels covid en 1, normal en 3 selon le dataset initial\n",
    "y_true = np.array(labels)\n",
    "y_true[y_true == 'COVID'] = \"Positive\"\n",
    "y_true[y_true == 'Normal'] = \"Negative\"\n",
    "\n",
    "# On fait la matrice de confusion\n",
    "pd.crosstab(y_true,y_pred)\n"
   ]
  },
  {
   "cell_type": "code",
   "execution_count": null,
   "metadata": {},
   "outputs": [],
   "source": [
    "# Visualisation mal étiquetées\n",
    "\n",
    "for j in range(10):\n",
    "    i = random.randint(0,len(labels))\n",
    "    if labels[i] != y_pred[i]:\n",
    "       \n",
    "        plt.figure(figsize=(10,5))\n",
    "        \n",
    "        plt.subplot(1,3,1)\n",
    "        plt.imshow(images[i], cmap=\"gray\")\n",
    "        titre = \"Image initiale étiquetée \" + \" \" + y_true[i]\n",
    "        plt.title(titre)\n",
    "        plt.axis(\"off\")\n",
    "\n",
    "        \n",
    "        plt.subplot(1,3,2)\n",
    "        plt.imshow(images_scaled[i])\n",
    "        titre = \"Image preprocessée\"\n",
    "        plt.title(titre)\n",
    "        plt.axis(\"off\")\n",
    "\n",
    "        plt.subplot(1,3,3)\n",
    "        plt.imshow(masked_images[i])\n",
    "        titre = \"Image masquée prédite\" + \" \" + y_pred[i]\n",
    "        plt.title(titre)\n",
    "        plt.axis(\"off\")\n",
    "        "
   ]
  }
 ],
 "metadata": {
  "kernelspec": {
   "display_name": "RadioPulmonaire",
   "language": "python",
   "name": "python3"
  },
  "language_info": {
   "codemirror_mode": {
    "name": "ipython",
    "version": 3
   },
   "file_extension": ".py",
   "mimetype": "text/x-python",
   "name": "python",
   "nbconvert_exporter": "python",
   "pygments_lexer": "ipython3",
   "version": "3.12.7"
  }
 },
 "nbformat": 4,
 "nbformat_minor": 2
}
