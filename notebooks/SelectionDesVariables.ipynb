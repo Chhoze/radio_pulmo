{
 "cells": [
  {
   "cell_type": "code",
   "execution_count": null,
   "metadata": {},
   "outputs": [],
   "source": [
    "# Import des packages \n",
    "import pandas as pd\n",
    "import numpy as np\n",
    "import sklearn\n",
    "from scipy import sparse\n",
    "\n",
    "import os \n",
    "import pathlib\n",
    "\n",
    "# Insérez votre code ici\n",
    "import seaborn as sns\n",
    "import numpy as np\n",
    "import pandas as pd\n",
    "import matplotlib.pyplot as plt\n",
    "from sklearn.decomposition import PCA\n",
    "\n",
    "from sklearn.discriminant_analysis import LinearDiscriminantAnalysis as LDA\n",
    "from sklearn.ensemble import RandomForestClassifier\n",
    "from sklearn.model_selection import KFold, GridSearchCV\n",
    "from sklearn.metrics import classification_report, confusion_matrix, ConfusionMatrixDisplay\n",
    "\n"
   ]
  },
  {
   "cell_type": "code",
   "execution_count": null,
   "metadata": {},
   "outputs": [],
   "source": [
    "# On importe le dataset complet mais reduit en 100*100\n",
    "\n",
    "path_to_data = r\"C:\\Users\\Inrae\\Documents\\Projet_Data_Science\"\n",
    "file_path = os.path.join(path_to_data,\"radio_tab.csv\")\n",
    "\n",
    "df = pd.read_csv(file_path)\n",
    "\n",
    "df.shape\n"
   ]
  },
  {
   "cell_type": "code",
   "execution_count": null,
   "metadata": {},
   "outputs": [],
   "source": [
    "# On cree un jeu de données réduit en respectant les proportions initiales \n",
    "\n",
    "df.rename(columns = {'Unnamed: 0':'FILENAME'}, inplace = True)\n",
    "\n",
    "df = df.set_index(\"FILENAME\")\n",
    "\n",
    "#df = df.rename(columns = {'Unnamed : 0' : 'FILENAME'})\n",
    "df.head()"
   ]
  },
  {
   "cell_type": "code",
   "execution_count": null,
   "metadata": {},
   "outputs": [],
   "source": [
    "# On fait un X et Y \n",
    "# # On convertit en entier pour économiser en mémoire\n",
    "\n",
    "X = df.iloc[:,5:].astype(\"int\")\n",
    "\n",
    "target = df[\"URL\"] + \"_\"  + df[\"TYPE\"]\n",
    "\n",
    "type = df[\"TYPE\"]\n",
    "\n",
    "source = df[\"URL\"]\n",
    "\n",
    "X.head()\n",
    "\n"
   ]
  },
  {
   "cell_type": "code",
   "execution_count": null,
   "metadata": {},
   "outputs": [],
   "source": [
    "X.dtypes\n",
    "X.shape\n",
    "\n",
    "from sklearn.model_selection import train_test_split\n",
    "\n",
    "X_train, X_test, y_train, y_test = train_test_split(X, type, stratify=target, test_size=0.3, random_state=42)"
   ]
  },
  {
   "cell_type": "markdown",
   "metadata": {},
   "source": [
    "# On fait une ACP\n",
    "## Pourcentage de variance expliquée par les axes\n"
   ]
  },
  {
   "cell_type": "code",
   "execution_count": null,
   "metadata": {},
   "outputs": [],
   "source": [
    "\n",
    "pca = PCA(n_components=0.95)\n",
    "\n",
    "pca.fit(X_train)\n",
    "\n",
    "data_2D = pca.fit_transform(X_train)\n",
    "\n",
    "import seaborn as sns \n",
    "\n",
    "# Avec les 10 premières composantes \n",
    "\n",
    "print(\"Avec les 10 premieres composantes, on explique : \", pca.explained_variance_ratio_[:11].sum().round(3) * 100 , \" % de la variabilité\")\n",
    "\n",
    "\n",
    "print(\"Pour avoir 95 pour cent  de la variabilité initiale il faut : \", pca.explained_variance_ratio_.shape[0], \"composantes\")"
   ]
  },
  {
   "cell_type": "code",
   "execution_count": null,
   "metadata": {},
   "outputs": [],
   "source": [
    "# Histogramme des parts de variance de l'ACP\n",
    "\n",
    "sns.barplot(pca.explained_variance_ratio_[:11])\n",
    "plt.title(\"Pourcentage de variance expliquée par les 10 premiers axes de l'ACP\")\n"
   ]
  },
  {
   "cell_type": "code",
   "execution_count": null,
   "metadata": {},
   "outputs": [],
   "source": [
    "# Idem en variance cumulée\n",
    "sns.barplot(pca.explained_variance_ratio_.cumsum()[:21])\n",
    "plt.title(\"Pourcentage de variance cumulée expliquée par les 20 premiers axes de l'ACP\")\n"
   ]
  },
  {
   "cell_type": "markdown",
   "metadata": {},
   "source": [
    "## Projection sur les axes 1 et 2 de l'ACP"
   ]
  },
  {
   "cell_type": "code",
   "execution_count": null,
   "metadata": {},
   "outputs": [],
   "source": [
    "# On retrouve l'information source\n",
    "X_train.head()\n",
    "url = df[\"URL\"]\n",
    "\n",
    "source_train = X_train.iloc[:,1:2].merge(url, how=\"left\", left_index = True, right_index = True).reset_index\n",
    "\n",
    "source = source_train[\"URL\"]"
   ]
  },
  {
   "cell_type": "code",
   "execution_count": null,
   "metadata": {},
   "outputs": [],
   "source": [
    "# On visualise la source sur les deux premiers axes de l'ACP\n",
    "sns.relplot(x=data_2D[:, 0], y=data_2D[:, 1], hue = source, cmap=plt.cm.Spectral)\n",
    "\n",
    "print(\"La part de variance expliquée est\", round(pca.explained_variance_ratio_.sum(),2))\n",
    "\n",
    "abcisse = 'PCA 1, variance : ' +  str(pca.explained_variance_ratio_[0].round(3))\n",
    "ordonnées = 'PCA 2, variance : ' +  str(pca.explained_variance_ratio_[1].round(3))\n",
    "plt.xlabel(abcisse)\n",
    "plt.ylabel(ordonnées)\n",
    "\n",
    "plt.title(\"Données projetées sur les 2 axes de PCA\" + \" (\" + str(round(pca.explained_variance_ratio_[:2].sum(),2)) +\")\")\n",
    "plt.show();"
   ]
  },
  {
   "cell_type": "code",
   "execution_count": null,
   "metadata": {},
   "outputs": [],
   "source": [
    "# On visualise la catégorie sur les deux premiers axes de l'ACP\n",
    "type = y_train\n",
    "\n",
    "sns.relplot(x=data_2D[:, 0], y=data_2D[:, 1], hue = type, cmap=plt.cm.Spectral)\n",
    "\n",
    "abcisse = 'PCA 1, variance : ' +  str(pca.explained_variance_ratio_[0].round(3))\n",
    "ordonnées = 'PCA 2, variance : ' +  str(pca.explained_variance_ratio_[1].round(3))\n",
    "plt.xlabel(abcisse)\n",
    "plt.ylabel(ordonnées)\n",
    "\n",
    "plt.title(\"Données projetées sur les 2 axes de PCA : (\" + str(round(pca.explained_variance_ratio_[:2].sum(),2)) +\")\")\n",
    "plt.show();"
   ]
  },
  {
   "cell_type": "code",
   "execution_count": null,
   "metadata": {},
   "outputs": [],
   "source": [
    "# On fait un graph par catégorie pour y voir plus clair\n",
    "\n",
    "sns.relplot(x=data_2D[:, 0], y=data_2D[:, 1], hue = type, cmap=plt.cm.Spectral, col=type)\n",
    "\n",
    "plt.show();"
   ]
  },
  {
   "cell_type": "markdown",
   "metadata": {},
   "source": [
    "## Projection sur les axes 3 et 4 de l'ACP"
   ]
  },
  {
   "cell_type": "code",
   "execution_count": null,
   "metadata": {},
   "outputs": [],
   "source": [
    "# Visualisation de l'information source sur les axes 3 et 4\n",
    "sns.relplot(x=data_2D[:, 2], y=data_2D[:, 3], hue = source, cmap=plt.cm.Spectral)\n",
    "\n",
    "abcisse = 'PCA 3, variance : ' +  str(pca.explained_variance_ratio_[2].round(3))\n",
    "ordonnées = 'PCA 4, variance : ' +  str(pca.explained_variance_ratio_[3].round(3))\n",
    "plt.xlabel(abcisse)\n",
    "plt.ylabel(ordonnées)\n",
    "\n",
    "plt.title(\"Données projetées sur les 2 axes de PCA\" + \" (\" + str((pca.explained_variance_ratio_[2] + pca.explained_variance_ratio_[3]).round(3)) +\")\")\n",
    "plt.show();"
   ]
  },
  {
   "cell_type": "code",
   "execution_count": null,
   "metadata": {},
   "outputs": [],
   "source": [
    "# Visualiation des catégories sur les axes 3 et 4\n",
    "sns.relplot(x=data_2D[:, 2], y=data_2D[:, 3], hue = type, cmap=plt.cm.Spectral)\n",
    "\n",
    "abcisse = 'PCA 3, variance : ' +  str(pca.explained_variance_ratio_[2].round(3))\n",
    "ordonnées = 'PCA 4, variance : ' +  str(pca.explained_variance_ratio_[3].round(3))\n",
    "plt.xlabel(abcisse)\n",
    "plt.ylabel(ordonnées)\n",
    "\n",
    "plt.title(\"Données projetées sur les 2 axes de PCA\" + \" (\" + str((pca.explained_variance_ratio_[2] + pca.explained_variance_ratio_[3]).round(3)) +\")\")\n",
    "plt.show();"
   ]
  },
  {
   "cell_type": "code",
   "execution_count": null,
   "metadata": {},
   "outputs": [],
   "source": [
    "# On fait un graphique par type pour mieux voir\n",
    "sns.relplot(x=data_2D[:, 2], y=data_2D[:, 3], hue = type, cmap=plt.cm.Spectral, col=type)\n",
    "\n",
    "plt.show();"
   ]
  },
  {
   "cell_type": "markdown",
   "metadata": {},
   "source": [
    "## Visualisation des composantes"
   ]
  },
  {
   "cell_type": "code",
   "execution_count": null,
   "metadata": {},
   "outputs": [],
   "source": [
    "# On visualise les 4 premières composantes de l'ACP\n",
    "\n",
    "for i in range(10):\n",
    "    plt.figure()\n",
    "    plt.imshow(pca.components_[i].reshape(100,100), cmap = 'gray')\n"
   ]
  },
  {
   "cell_type": "markdown",
   "metadata": {},
   "source": [
    "## Test d'un modèle de Random Forest à partir des résultats de l'ACP"
   ]
  },
  {
   "cell_type": "code",
   "execution_count": null,
   "metadata": {},
   "outputs": [],
   "source": [
    "# Transformation des jeux de données\n",
    "\n",
    "X_train_pca = pca.transform(X_train)\n",
    "\n",
    "X_test_pca = pca.transform(X_test)"
   ]
  },
  {
   "cell_type": "markdown",
   "metadata": {},
   "source": [
    "### Création d'un premier modèle"
   ]
  },
  {
   "cell_type": "code",
   "execution_count": null,
   "metadata": {},
   "outputs": [],
   "source": [
    "# Application d'un premier modèle de Forêt aléatoire\n",
    "from sklearn.ensemble import RandomForestClassifier\n",
    "\n",
    "# On separe apprentissage et validation\n",
    "\n",
    "rf = RandomForestClassifier()\n",
    "\n",
    "rf.fit(X_train_pca, y_train)\n",
    "\n",
    "# A voir en ajustant les parametres\n",
    "\n",
    "y_pred = rf.predict(X_test_pca)\n",
    "\n",
    "#rf.score(y_test, y_pred)\n",
    "\n"
   ]
  },
  {
   "cell_type": "code",
   "execution_count": null,
   "metadata": {},
   "outputs": [],
   "source": [
    "print(sklearn.metrics.classification_report(y_test, y_pred))"
   ]
  },
  {
   "cell_type": "markdown",
   "metadata": {},
   "source": [
    "### Optimisation du modèle"
   ]
  },
  {
   "cell_type": "code",
   "execution_count": null,
   "metadata": {},
   "outputs": [],
   "source": [
    "# On cherche à optimiser les paramètres de la foret aléatoire\n",
    "\n",
    "params = {\n",
    "# Number of trees in random forest\n",
    "\"n_estimators\" : [100, 200, 300, 400, 500, 600, 700, 800, 900]\n",
    "}\n",
    "\n",
    "crossval = KFold(n_splits = 3, random_state = 42, shuffle = True)\n",
    "\n",
    "grid = GridSearchCV(estimator = rf, param_grid = params, cv=crossval, scoring = 'f1_macro')\n",
    "grid.fit(X_train, y_train)\n",
    "print(grid.best_params_)\n",
    "\n",
    "\n",
    "# alpha_grid = {'alpha':[1/i for i in range(1,10)]}\n",
    "# grid = GridSearchCV(estimator = lasso, param_grid = alpha_grid, cv=crossval, scoring = 'neg_mean_squared_error')\n",
    "# grid.fit(X_train, y_train)\n",
    "# print(grid.best_params_)\n"
   ]
  },
  {
   "cell_type": "markdown",
   "metadata": {},
   "source": [
    "### Performances du nouveau modèle"
   ]
  },
  {
   "cell_type": "code",
   "execution_count": null,
   "metadata": {},
   "outputs": [],
   "source": [
    "# On reapplique le meilleur  de rf\n",
    "rf = RandomForestClassifier(n_estimators = 200)\n",
    "\n",
    "rf.fit(X_train, y_train)\n",
    "\n",
    "y_pred = rf.predict(X_test)"
   ]
  },
  {
   "cell_type": "code",
   "execution_count": null,
   "metadata": {},
   "outputs": [],
   "source": [
    "print(sklearn.metrics.classification_report(y_test, y_pred))"
   ]
  },
  {
   "cell_type": "code",
   "execution_count": null,
   "metadata": {},
   "outputs": [],
   "source": [
    "# Matrice de confusion\n",
    "\n",
    "cm = confusion_matrix(y_test, y_pred)\n",
    "disp = ConfusionMatrixDisplay(confusion_matrix=cm, display_labels=[\"COVID\", \"Lung Opacity\", \"Normal\", \"Viral Pneumonia\"])\n",
    "disp.plot(cmap='Blues')"
   ]
  },
  {
   "cell_type": "markdown",
   "metadata": {},
   "source": [
    "## Test de sélection des variables les plus pertinentes"
   ]
  },
  {
   "cell_type": "code",
   "execution_count": null,
   "metadata": {},
   "outputs": [],
   "source": [
    "# On regarde si certaines zones sont plus variable que d'autre sur les images\n",
    "# Ce n est pas applicable a du multilabel, on comparera juste COVID ou non\n",
    "\n",
    "from sklearn.feature_selection import SelectPercentile\n",
    "\n",
    "cible = np.where(type==\"COVID\",1,0)\n",
    "\n",
    "\n",
    "# # On utilise variance threshold pour supprimer les variables qui ne varient pas \n",
    "\n",
    "# from sklearn.feature_selection import VarianceThreshold\n",
    "\n",
    "# sel = VarianceThreshold(threshold=1e-6)\n",
    "\n",
    "# X2 = sel.fit_transform(X)\n",
    "\n",
    "X_train, X_test, y_train, y_test = train_test_split(X, cible, test_size = .2, random_state = 84, shuffle = True)\n",
    "\n",
    "sel = SelectPercentile(percentile = 90)\n",
    "sel.fit(X_train, y_train)\n",
    "\n",
    "plt.imshow(sel.get_support().reshape(299,299), cmap = 'gray_r');\n",
    "\n",
    "plt.title(\"Masque en conservant les 90% de variables les plus importantes\")"
   ]
  },
  {
   "cell_type": "code",
   "execution_count": null,
   "metadata": {},
   "outputs": [],
   "source": [
    "\n",
    "sel = SelectPercentile(percentile = 80)\n",
    "sel.fit(X_train, y_train)\n",
    "\n",
    "plt.imshow(sel.get_support().reshape(299,299), cmap = 'gray_r');\n",
    "\n",
    "plt.title(\"Masque en conservant les 80% de variables les plus importantes\")"
   ]
  },
  {
   "cell_type": "code",
   "execution_count": null,
   "metadata": {},
   "outputs": [],
   "source": [
    "sel = SelectPercentile(percentile = 70)\n",
    "sel.fit(X_train, y_train)\n",
    "\n",
    "plt.imshow(sel.get_support().reshape(299,299), cmap = 'gray_r');\n",
    "plt.title(\"Masque en conservant les 70% de variables les plus importantes\")"
   ]
  }
 ],
 "metadata": {
  "kernelspec": {
   "display_name": "RadioPulmonaire",
   "language": "python",
   "name": "python3"
  },
  "language_info": {
   "codemirror_mode": {
    "name": "ipython",
    "version": 3
   },
   "file_extension": ".py",
   "mimetype": "text/x-python",
   "name": "python",
   "nbconvert_exporter": "python",
   "pygments_lexer": "ipython3",
   "version": "3.12.7"
  }
 },
 "nbformat": 4,
 "nbformat_minor": 2
}
