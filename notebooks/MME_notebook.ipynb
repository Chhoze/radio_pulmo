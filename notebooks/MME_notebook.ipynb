{
 "cells": [
  {
   "cell_type": "markdown",
   "metadata": {},
   "source": [
    "# Notebook de test\n",
    "\n",
    "Notebook de Mickael MELKOWSKI\n",
    "\n",
    "## Preprocessing des data\n",
    "\n",
    "### Conversion en 256*256 et masking"
   ]
  },
  {
   "cell_type": "code",
   "execution_count": 1,
   "metadata": {},
   "outputs": [],
   "source": [
    "# import\n",
    "import cv2\n",
    "import os\n",
    "import pathlib"
   ]
  },
  {
   "cell_type": "code",
   "execution_count": 22,
   "metadata": {},
   "outputs": [
    {
     "name": "stdout",
     "output_type": "stream",
     "text": [
      "Processing folder: Lung_Opacity\n",
      "Processing folder: Lung_Opacity done.\n",
      "Processing folder: COVID\n",
      "Processing folder: COVID done.\n",
      "Processing folder: Normal\n",
      "Processing folder: Normal done.\n",
      "Processing folder: Viral_Pneumonia\n",
      "Processing folder: Viral_Pneumonia done.\n"
     ]
    }
   ],
   "source": [
    "# config\n",
    "data_folder_path = pathlib.Path(\"/home/tylio/code/Project_radio_pulmo/code/radio_pulmo/data/raw/COVID-19_Radiography_Dataset\")\n",
    "output_path = pathlib.Path(\"/home/tylio/code/Project_radio_pulmo/code/radio_pulmo/data/processed/covid_19_masked_tiny\")\n",
    "folder_to_process = [\"Lung_Opacity\",\"COVID\",\"Normal\",\"Viral_Pneumonia\"]\n",
    "\n",
    "# Setting to output a smaller dataset of tiny_size number of images\n",
    "make_tiny = True\n",
    "tiny_size = 100\n",
    "\n",
    "for img_type in  folder_to_process:\n",
    "    print(f\"Processing folder: {img_type}\")\n",
    "\n",
    "    img_folder_path = data_folder_path / img_type / \"images\"\n",
    "    mask_folder_path = data_folder_path / img_type / \"masks\"\n",
    "\n",
    "    output_folder_path = output_path / img_type\n",
    "    output_folder_path.mkdir(parents=True, exist_ok=True)\n",
    "\n",
    "    nb_image_done = 0\n",
    "    for image_name, mask_name in zip(os.listdir(img_folder_path), \n",
    "                                     os.listdir(mask_folder_path)):\n",
    "\n",
    "        image_path = img_folder_path / image_name\n",
    "        mask_path = mask_folder_path / mask_name\n",
    "\n",
    "        image = cv2.imread(image_path, cv2.IMREAD_GRAYSCALE)\n",
    "        mask = cv2.imread(mask_path, cv2.IMREAD_GRAYSCALE)\n",
    "\n",
    "        # resized to mask size\n",
    "        image = cv2.resize(image, dsize = (256, 256)) # fixed size to mask size\n",
    "\n",
    "        # masking\n",
    "        res =  cv2.bitwise_and(image, image, mask=mask)\n",
    "\n",
    "        # Write masked image\n",
    "        output_image_name = image_name + '_masked.png'\n",
    "        cv2.imwrite(output_folder_path / output_image_name, res)\n",
    "\n",
    "        nb_image_done += 1\n",
    "        if make_tiny and nb_image_done >= tiny_size:\n",
    "            break\n",
    "\n",
    "    print(f\"Processing folder: {img_type} done.\")"
   ]
  },
  {
   "cell_type": "markdown",
   "metadata": {},
   "source": [
    "## Premiers models"
   ]
  },
  {
   "cell_type": "code",
   "execution_count": 18,
   "metadata": {},
   "outputs": [],
   "source": [
    "# import\n",
    "import tensorflow as tf"
   ]
  },
  {
   "cell_type": "code",
   "execution_count": 23,
   "metadata": {},
   "outputs": [],
   "source": [
    "data_dir = pathlib.Path(\"/home/tylio/code/Project_radio_pulmo/code/radio_pulmo/data/processed/covid_19_masked_tiny\")\n",
    "img_height, img_width = 256, 256\n",
    "batch_size = 32"
   ]
  },
  {
   "cell_type": "code",
   "execution_count": 24,
   "metadata": {},
   "outputs": [
    {
     "name": "stdout",
     "output_type": "stream",
     "text": [
      "Found 400 files belonging to 4 classes.\n",
      "Using 320 files for training.\n"
     ]
    }
   ],
   "source": [
    "# training set\n",
    "train_ds = tf.keras.utils.image_dataset_from_directory(\n",
    "    data_dir,\n",
    "    validation_split=0.2,\n",
    "    subset=\"training\",\n",
    "    seed=42,\n",
    "    image_size=(img_height, img_width),\n",
    "    batch_size=batch_size)"
   ]
  },
  {
   "cell_type": "code",
   "execution_count": 25,
   "metadata": {},
   "outputs": [
    {
     "name": "stdout",
     "output_type": "stream",
     "text": [
      "Found 400 files belonging to 4 classes.\n",
      "Using 80 files for validation.\n"
     ]
    }
   ],
   "source": [
    "# validation set\n",
    "val_ds = tf.keras.utils.image_dataset_from_directory(\n",
    "    data_dir,\n",
    "    validation_split=0.2,\n",
    "    subset=\"validation\",\n",
    "    seed=42,\n",
    "    image_size=(img_height, img_width),\n",
    "    batch_size=batch_size)"
   ]
  },
  {
   "cell_type": "code",
   "execution_count": null,
   "metadata": {},
   "outputs": [],
   "source": []
  }
 ],
 "metadata": {
  "kernelspec": {
   "display_name": "radio_pulmo_env",
   "language": "python",
   "name": "python3"
  },
  "language_info": {
   "codemirror_mode": {
    "name": "ipython",
    "version": 3
   },
   "file_extension": ".py",
   "mimetype": "text/x-python",
   "name": "python",
   "nbconvert_exporter": "python",
   "pygments_lexer": "ipython3",
   "version": "3.10.12"
  }
 },
 "nbformat": 4,
 "nbformat_minor": 2
}
