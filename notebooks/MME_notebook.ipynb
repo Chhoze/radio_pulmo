{
 "cells": [
  {
   "cell_type": "markdown",
   "metadata": {},
   "source": [
    "# Notebook de test\n",
    "\n",
    "Notebook de Mickael MELKOWSKI\n",
    "\n",
    "## Preprocessing des data\n",
    "\n",
    "### Conversion en 256*256 et masking"
   ]
  },
  {
   "cell_type": "code",
   "execution_count": 1,
   "metadata": {},
   "outputs": [],
   "source": [
    "# import\n",
    "import cv2\n",
    "import os\n",
    "import pathlib"
   ]
  },
  {
   "cell_type": "code",
   "execution_count": 22,
   "metadata": {},
   "outputs": [
    {
     "name": "stdout",
     "output_type": "stream",
     "text": [
      "Processing folder: Lung_Opacity\n",
      "Processing folder: Lung_Opacity done.\n",
      "Processing folder: COVID\n",
      "Processing folder: COVID done.\n",
      "Processing folder: Normal\n",
      "Processing folder: Normal done.\n",
      "Processing folder: Viral_Pneumonia\n",
      "Processing folder: Viral_Pneumonia done.\n"
     ]
    }
   ],
   "source": [
    "# config\n",
    "data_folder_path = pathlib.Path(\"/home/tylio/code/Project_radio_pulmo/code/radio_pulmo/data/raw/COVID-19_Radiography_Dataset\")\n",
    "output_path = pathlib.Path(\"/home/tylio/code/Project_radio_pulmo/code/radio_pulmo/data/processed/covid_19_masked_tiny\")\n",
    "folder_to_process = [\"Lung_Opacity\",\"COVID\",\"Normal\",\"Viral_Pneumonia\"]\n",
    "\n",
    "# Setting to output a smaller dataset of tiny_size number of images\n",
    "make_tiny = True\n",
    "tiny_size = 100\n",
    "\n",
    "for img_type in  folder_to_process:\n",
    "    print(f\"Processing folder: {img_type}\")\n",
    "\n",
    "    img_folder_path = data_folder_path / img_type / \"images\"\n",
    "    mask_folder_path = data_folder_path / img_type / \"masks\"\n",
    "\n",
    "    output_folder_path = output_path / img_type\n",
    "    output_folder_path.mkdir(parents=True, exist_ok=True)\n",
    "\n",
    "    nb_image_done = 0\n",
    "    for image_name, mask_name in zip(os.listdir(img_folder_path), \n",
    "                                     os.listdir(mask_folder_path)):\n",
    "\n",
    "        image_path = img_folder_path / image_name\n",
    "        mask_path = mask_folder_path / mask_name\n",
    "\n",
    "        image = cv2.imread(image_path, cv2.IMREAD_GRAYSCALE)\n",
    "        mask = cv2.imread(mask_path, cv2.IMREAD_GRAYSCALE)\n",
    "\n",
    "        # resized to mask size\n",
    "        image = cv2.resize(image, dsize = (256, 256)) # fixed size to mask size\n",
    "\n",
    "        # masking\n",
    "        res =  cv2.bitwise_and(image, image, mask=mask)\n",
    "\n",
    "        # Write masked image\n",
    "        output_image_name = image_name + '_masked.png'\n",
    "        cv2.imwrite(output_folder_path / output_image_name, res)\n",
    "\n",
    "        nb_image_done += 1\n",
    "        if make_tiny and nb_image_done >= tiny_size:\n",
    "            break\n",
    "\n",
    "    print(f\"Processing folder: {img_type} done.\")"
   ]
  },
  {
   "cell_type": "markdown",
   "metadata": {},
   "source": [
    "## Premiers models"
   ]
  },
  {
   "cell_type": "code",
   "execution_count": 36,
   "metadata": {},
   "outputs": [],
   "source": [
    "# import\n",
    "import pathlib\n",
    "\n",
    "import numpy as np\n",
    "\n",
    "import tensorflow as tf\n",
    "import tensorrt\n",
    "from tensorflow.keras.layers import Input, Dense\n",
    "from tensorflow.keras.models import Model\n",
    "from tensorflow.keras.layers import Dropout \n",
    "from tensorflow.keras.layers import Flatten\n",
    "from tensorflow.keras.layers import Conv2D \n",
    "from tensorflow.keras.layers import MaxPooling2D\n",
    "\n",
    "from keras.utils import to_categorical\n",
    "\n",
    "import matplotlib.pyplot as plt\n",
    "from matplotlib import cm"
   ]
  },
  {
   "cell_type": "code",
   "execution_count": 6,
   "metadata": {},
   "outputs": [],
   "source": [
    "data_dir = pathlib.Path(\"/home/tylio/code/Project_radio_pulmo/code/radio_pulmo/data/processed/covid_19_masked_tiny\")\n",
    "img_height, img_width = 256, 256\n",
    "batch_size = 32"
   ]
  },
  {
   "cell_type": "code",
   "execution_count": 21,
   "metadata": {},
   "outputs": [
    {
     "name": "stdout",
     "output_type": "stream",
     "text": [
      "Found 400 files belonging to 4 classes.\n"
     ]
    },
    {
     "name": "stdout",
     "output_type": "stream",
     "text": [
      "Using 320 files for training.\n"
     ]
    }
   ],
   "source": [
    "# training set\n",
    "train_ds = tf.keras.utils.image_dataset_from_directory(\n",
    "    data_dir,\n",
    "    validation_split=0.2,\n",
    "    subset=\"training\",\n",
    "    color_mode= \"grayscale\",\n",
    "    seed=42,\n",
    "    image_size=(img_height, img_width),\n",
    "    batch_size=batch_size)"
   ]
  },
  {
   "cell_type": "code",
   "execution_count": 22,
   "metadata": {},
   "outputs": [
    {
     "name": "stdout",
     "output_type": "stream",
     "text": [
      "Found 400 files belonging to 4 classes.\n",
      "Using 80 files for validation.\n"
     ]
    }
   ],
   "source": [
    "# validation set\n",
    "val_ds = tf.keras.utils.image_dataset_from_directory(\n",
    "    data_dir,\n",
    "    validation_split=0.2,\n",
    "    subset=\"validation\",\n",
    "    color_mode= \"grayscale\",\n",
    "    seed=42,\n",
    "    image_size=(img_height, img_width),\n",
    "    batch_size=batch_size)"
   ]
  },
  {
   "cell_type": "code",
   "execution_count": 35,
   "metadata": {},
   "outputs": [],
   "source": [
    "# Transform keras dataset to numpy ndarray\n",
    "# from https://stackoverflow.com/questions/56226621/how-to-extract-data-labels-back-from-tensorflow-dataset\n",
    "# For train data\n",
    "all_images = []\n",
    "all_labels = []\n",
    "\n",
    "for images, labels in train_ds.take(-1):  # -1 takes all\n",
    "    all_images.append(images.numpy())\n",
    "    all_labels.append(labels.numpy())\n",
    "\n",
    "X_train = np.concatenate(all_images)\n",
    "y_train = np.concatenate(all_labels)\n",
    "\n",
    "# For test data\n",
    "all_images = []\n",
    "all_labels = []\n",
    "\n",
    "for images, labels in val_ds.take(-1):  # -1 takes all\n",
    "    all_images.append(images.numpy())\n",
    "    all_labels.append(labels.numpy())\n",
    "\n",
    "X_test = np.concatenate(all_images)\n",
    "y_test = np.concatenate(all_labels)\n"
   ]
  },
  {
   "cell_type": "code",
   "execution_count": 48,
   "metadata": {},
   "outputs": [],
   "source": [
    "# normalization\n",
    "X_train = X_train / 255\n",
    "X_test = X_test / 255\n",
    "\n",
    "# encoding\n",
    "y_train = to_categorical(y_train)\n",
    "y_test = to_categorical(y_test)"
   ]
  },
  {
   "cell_type": "markdown",
   "metadata": {},
   "source": [
    "## Test sur archi LeNet\n",
    "\n",
    "### Definition du modele"
   ]
  },
  {
   "cell_type": "code",
   "execution_count": 50,
   "metadata": {},
   "outputs": [
    {
     "name": "stderr",
     "output_type": "stream",
     "text": [
      "/home/tylio/code/radio_pulmo_env/lib/python3.10/site-packages/keras/src/layers/convolutional/base_conv.py:107: UserWarning: Do not pass an `input_shape`/`input_dim` argument to a layer. When using Sequential models, prefer using an `Input(shape)` object as the first layer in the model instead.\n",
      "  super().__init__(activity_regularizer=activity_regularizer, **kwargs)\n"
     ]
    }
   ],
   "source": [
    "# Architecture du modèle\n",
    "inputs=Input(shape = (256, 256,1), name = \"Input\")\n",
    "conv_1 = Conv2D(filters = 30,                     # Nombre de filtres\n",
    "                kernel_size = (5, 5),            # Dimensions du noyau\n",
    "                padding = 'valid',               # Mode de Dépassement\n",
    "                input_shape = (28, 28, 1),       # Dimensions de l'image en entrée\n",
    "                activation = 'relu')             # Fonction d'activation\n",
    "max_pool_1 = MaxPooling2D(pool_size = (2, 2))\n",
    "conv_2 = Conv2D(filters = 16,                    \n",
    "                kernel_size = (3, 3),          \n",
    "                padding = 'valid',             \n",
    "                activation = 'relu')\n",
    "max_pool_2 = MaxPooling2D(pool_size = (2, 2))\n",
    "flatten = Flatten()\n",
    "dropout = Dropout(rate = 0.2)\n",
    "dense_1 = Dense(units = 128,\n",
    "                activation = 'relu')\n",
    "dense_2 = Dense(units = 4,\n",
    "                activation = 'softmax')\n",
    "\n",
    "x=conv_1(inputs)\n",
    "x=max_pool_1(x)\n",
    "x=conv_2(x)\n",
    "x=max_pool_2(x)\n",
    "x=dropout(x)\n",
    "x=flatten(x)\n",
    "x=dense_1(x)\n",
    "outputs=dense_2(x)\n",
    "\n",
    "lenet = Model(inputs = inputs, outputs = outputs)"
   ]
  },
  {
   "cell_type": "markdown",
   "metadata": {},
   "source": [
    "### Compilation et fitting"
   ]
  },
  {
   "cell_type": "code",
   "execution_count": 51,
   "metadata": {},
   "outputs": [
    {
     "name": "stdout",
     "output_type": "stream",
     "text": [
      "Epoch 1/16\n",
      "\u001b[1m2/2\u001b[0m \u001b[32m━━━━━━━━━━━━━━━━━━━━\u001b[0m\u001b[37m\u001b[0m \u001b[1m2s\u001b[0m 384ms/step - accuracy: 0.2448 - loss: 1.3864 - val_accuracy: 0.2656 - val_loss: 1.3865\n",
      "Epoch 2/16\n",
      "\u001b[1m2/2\u001b[0m \u001b[32m━━━━━━━━━━━━━━━━━━━━\u001b[0m\u001b[37m\u001b[0m \u001b[1m1s\u001b[0m 304ms/step - accuracy: 0.2483 - loss: 1.3863 - val_accuracy: 0.2344 - val_loss: 1.3870\n",
      "Epoch 3/16\n",
      "\u001b[1m2/2\u001b[0m \u001b[32m━━━━━━━━━━━━━━━━━━━━\u001b[0m\u001b[37m\u001b[0m \u001b[1m1s\u001b[0m 308ms/step - accuracy: 0.2561 - loss: 1.3862 - val_accuracy: 0.2344 - val_loss: 1.3879\n",
      "Epoch 4/16\n",
      "\u001b[1m2/2\u001b[0m \u001b[32m━━━━━━━━━━━━━━━━━━━━\u001b[0m\u001b[37m\u001b[0m \u001b[1m1s\u001b[0m 304ms/step - accuracy: 0.2711 - loss: 1.3859 - val_accuracy: 0.2344 - val_loss: 1.3884\n",
      "Epoch 5/16\n",
      "\u001b[1m2/2\u001b[0m \u001b[32m━━━━━━━━━━━━━━━━━━━━\u001b[0m\u001b[37m\u001b[0m \u001b[1m1s\u001b[0m 305ms/step - accuracy: 0.2645 - loss: 1.3852 - val_accuracy: 0.2344 - val_loss: 1.3872\n",
      "Epoch 6/16\n",
      "\u001b[1m2/2\u001b[0m \u001b[32m━━━━━━━━━━━━━━━━━━━━\u001b[0m\u001b[37m\u001b[0m \u001b[1m1s\u001b[0m 300ms/step - accuracy: 0.2645 - loss: 1.3856 - val_accuracy: 0.2344 - val_loss: 1.3869\n",
      "Epoch 7/16\n",
      "\u001b[1m2/2\u001b[0m \u001b[32m━━━━━━━━━━━━━━━━━━━━\u001b[0m\u001b[37m\u001b[0m \u001b[1m1s\u001b[0m 304ms/step - accuracy: 0.2578 - loss: 1.3860 - val_accuracy: 0.2344 - val_loss: 1.3869\n",
      "Epoch 8/16\n",
      "\u001b[1m2/2\u001b[0m \u001b[32m━━━━━━━━━━━━━━━━━━━━\u001b[0m\u001b[37m\u001b[0m \u001b[1m1s\u001b[0m 305ms/step - accuracy: 0.2628 - loss: 1.3858 - val_accuracy: 0.2344 - val_loss: 1.3869\n",
      "Epoch 9/16\n",
      "\u001b[1m2/2\u001b[0m \u001b[32m━━━━━━━━━━━━━━━━━━━━\u001b[0m\u001b[37m\u001b[0m \u001b[1m1s\u001b[0m 302ms/step - accuracy: 0.2545 - loss: 1.3858 - val_accuracy: 0.2344 - val_loss: 1.3869\n",
      "Epoch 10/16\n",
      "\u001b[1m2/2\u001b[0m \u001b[32m━━━━━━━━━━━━━━━━━━━━\u001b[0m\u001b[37m\u001b[0m \u001b[1m1s\u001b[0m 298ms/step - accuracy: 0.2628 - loss: 1.3854 - val_accuracy: 0.2344 - val_loss: 1.3869\n",
      "Epoch 11/16\n",
      "\u001b[1m2/2\u001b[0m \u001b[32m━━━━━━━━━━━━━━━━━━━━\u001b[0m\u001b[37m\u001b[0m \u001b[1m1s\u001b[0m 306ms/step - accuracy: 0.2661 - loss: 1.3852 - val_accuracy: 0.2344 - val_loss: 1.3869\n",
      "Epoch 12/16\n",
      "\u001b[1m2/2\u001b[0m \u001b[32m━━━━━━━━━━━━━━━━━━━━\u001b[0m\u001b[37m\u001b[0m \u001b[1m1s\u001b[0m 306ms/step - accuracy: 0.2595 - loss: 1.3852 - val_accuracy: 0.2344 - val_loss: 1.3867\n",
      "Epoch 13/16\n",
      "\u001b[1m2/2\u001b[0m \u001b[32m━━━━━━━━━━━━━━━━━━━━\u001b[0m\u001b[37m\u001b[0m \u001b[1m1s\u001b[0m 322ms/step - accuracy: 0.2611 - loss: 1.3850 - val_accuracy: 0.2344 - val_loss: 1.3863\n",
      "Epoch 14/16\n",
      "\u001b[1m2/2\u001b[0m \u001b[32m━━━━━━━━━━━━━━━━━━━━\u001b[0m\u001b[37m\u001b[0m \u001b[1m1s\u001b[0m 306ms/step - accuracy: 0.2661 - loss: 1.3847 - val_accuracy: 0.2344 - val_loss: 1.3860\n",
      "Epoch 15/16\n",
      "\u001b[1m2/2\u001b[0m \u001b[32m━━━━━━━━━━━━━━━━━━━━\u001b[0m\u001b[37m\u001b[0m \u001b[1m1s\u001b[0m 308ms/step - accuracy: 0.2595 - loss: 1.3846 - val_accuracy: 0.2344 - val_loss: 1.3856\n",
      "Epoch 16/16\n",
      "\u001b[1m2/2\u001b[0m \u001b[32m━━━━━━━━━━━━━━━━━━━━\u001b[0m\u001b[37m\u001b[0m \u001b[1m1s\u001b[0m 311ms/step - accuracy: 0.2628 - loss: 1.3843 - val_accuracy: 0.2344 - val_loss: 1.3852\n"
     ]
    }
   ],
   "source": [
    "# Compilation\n",
    "lenet.compile(loss='categorical_crossentropy',  # fonction de perte\n",
    "              optimizer='adam',                 # algorithme de descente de gradient\n",
    "              metrics=['accuracy'])             # métrique d'évaluation\n",
    "\n",
    "# Entraînement_1\n",
    "nb_epochs = 16\n",
    "nb_batch_size = 200\n",
    "\n",
    "training_history_lenet = lenet.fit(X_train, y_train,           # données\n",
    "                                   validation_split = 0.2,     # split de test\n",
    "                                   epochs = nb_epochs,         # nombre d'epochs\n",
    "                                   batch_size = nb_batch_size) # taille des batchs\n",
    "\n",
    "# extraire les précisions sur les bases d'entraînement et de test obtenues pendant l'entraînement\n",
    "train_acc_lenet = training_history_lenet.history['accuracy']\n",
    "val_acc_lenet = training_history_lenet.history['val_accuracy']"
   ]
  },
  {
   "cell_type": "markdown",
   "metadata": {},
   "source": [
    "### Plot"
   ]
  },
  {
   "cell_type": "code",
   "execution_count": 52,
   "metadata": {},
   "outputs": [
    {
     "data": {
      "image/png": "[encoded data removed]",
      "text/plain": [
       "<Figure size 640x480 with 1 Axes>"
      ]
     },
     "metadata": {},
     "output_type": "display_data"
    }
   ],
   "source": [
    "# Courbe du score de test du réseau LeNet\n",
    "plt.plot(np.arange(1 , nb_epochs + 1, 1),\n",
    "         val_acc_lenet, \n",
    "         label = 'LeNet',\n",
    "         color = 'blue')\n",
    "# Labels des axes\n",
    "plt.xlabel('Epochs')\n",
    "plt.ylabel('Accuracy')\n",
    "# Affichage de la légende\n",
    "plt.legend()\n",
    "# Affichage de la figure\n",
    "plt.show()"
   ]
  },
  {
   "cell_type": "markdown",
   "metadata": {},
   "source": [
    "## Test load direct"
   ]
  },
  {
   "cell_type": "code",
   "execution_count": 62,
   "metadata": {},
   "outputs": [],
   "source": [
    "# import\n",
    "import cv2\n",
    "import os\n",
    "import pathlib\n",
    "\n",
    "\n",
    "import numpy as np\n",
    "\n",
    "import tensorflow as tf\n",
    "import tensorrt\n",
    "from tensorflow.keras.models import Model\n",
    "from tensorflow.keras.models import Sequential\n",
    "from tensorflow.keras.layers import Normalization\n",
    "from tensorflow.keras.layers import Input, Dense\n",
    "from tensorflow.keras.layers import Dropout \n",
    "from tensorflow.keras.layers import Flatten\n",
    "from tensorflow.keras.layers import Conv2D \n",
    "from tensorflow.keras.layers import MaxPooling2D\n",
    "\n",
    "from keras.utils import to_categorical\n",
    "\n"
   ]
  },
  {
   "cell_type": "code",
   "execution_count": 80,
   "metadata": {},
   "outputs": [
    {
     "name": "stdout",
     "output_type": "stream",
     "text": [
      "Found 400 files belonging to 4 classes.\n",
      "Using 320 files for training.\n"
     ]
    },
    {
     "name": "stdout",
     "output_type": "stream",
     "text": [
      "Found 400 files belonging to 4 classes.\n",
      "Using 80 files for validation.\n",
      "Epoch 1/6\n"
     ]
    },
    {
     "name": "stderr",
     "output_type": "stream",
     "text": [
      "/home/tylio/code/radio_pulmo_env/lib/python3.10/site-packages/keras/src/layers/convolutional/base_conv.py:107: UserWarning: Do not pass an `input_shape`/`input_dim` argument to a layer. When using Sequential models, prefer using an `Input(shape)` object as the first layer in the model instead.\n",
      "  super().__init__(activity_regularizer=activity_regularizer, **kwargs)\n"
     ]
    },
    {
     "name": "stdout",
     "output_type": "stream",
     "text": [
      "\u001b[1m10/10\u001b[0m \u001b[32m━━━━━━━━━━━━━━━━━━━━\u001b[0m\u001b[37m\u001b[0m \u001b[1m3s\u001b[0m 259ms/step - accuracy: 0.2548 - loss: 377.5478\n",
      "Epoch 2/6\n",
      "\u001b[1m10/10\u001b[0m \u001b[32m━━━━━━━━━━━━━━━━━━━━\u001b[0m\u001b[37m\u001b[0m \u001b[1m3s\u001b[0m 263ms/step - accuracy: 0.5097 - loss: 15.4107\n",
      "Epoch 3/6\n",
      "\u001b[1m10/10\u001b[0m \u001b[32m━━━━━━━━━━━━━━━━━━━━\u001b[0m\u001b[37m\u001b[0m \u001b[1m3s\u001b[0m 260ms/step - accuracy: 0.7642 - loss: 1.0177\n",
      "Epoch 4/6\n",
      "\u001b[1m10/10\u001b[0m \u001b[32m━━━━━━━━━━━━━━━━━━━━\u001b[0m\u001b[37m\u001b[0m \u001b[1m3s\u001b[0m 260ms/step - accuracy: 0.9341 - loss: 0.2278\n",
      "Epoch 5/6\n",
      "\u001b[1m10/10\u001b[0m \u001b[32m━━━━━━━━━━━━━━━━━━━━\u001b[0m\u001b[37m\u001b[0m \u001b[1m3s\u001b[0m 253ms/step - accuracy: 0.9906 - loss: 0.0512\n",
      "Epoch 6/6\n",
      "\u001b[1m10/10\u001b[0m \u001b[32m━━━━━━━━━━━━━━━━━━━━\u001b[0m\u001b[37m\u001b[0m \u001b[1m3s\u001b[0m 259ms/step - accuracy: 0.9957 - loss: 0.0359\n"
     ]
    }
   ],
   "source": [
    "# test sans passer par la recup à la main\n",
    "train_dataset = tf.keras.utils.image_dataset_from_directory(\n",
    "    data_dir,\n",
    "    labels=\"inferred\",  # Automatically infer labels from subdirectories\n",
    "    label_mode=\"categorical\",  # For multi-class classification\n",
    "    validation_split=0.2,\n",
    "    subset=\"training\",\n",
    "    seed=42,\n",
    "    image_size=(img_height, img_width),  # Resize images to a standard size\n",
    "    batch_size=32,  # Set the batch size\n",
    "    color_mode= \"grayscale\",\n",
    "    shuffle=True  # Shuffle the dataset for better training\n",
    ")\n",
    "\n",
    "test_dataset = tf.keras.utils.image_dataset_from_directory(\n",
    "    data_dir,\n",
    "    labels=\"inferred\",  # Automatically infer labels from subdirectories\n",
    "    label_mode=\"categorical\",  # For multi-class classification\n",
    "    validation_split=0.2,\n",
    "    subset=\"validation\",\n",
    "    seed=42,\n",
    "    image_size=(img_height, img_width),  # Resize images to a standard size\n",
    "    batch_size=32,  # Set the batch size\n",
    "    color_mode= \"grayscale\",\n",
    "    shuffle=True  # Shuffle the dataset for better training\n",
    ")\n",
    "\n",
    "# model definition\n",
    "num_classes = 4\n",
    "\n",
    "model = Sequential([\n",
    "    Input(shape=(img_height, img_width, 1)),\n",
    "    Normalization(axis=-1),  # Normalizes along the last axis (features), per batch ?\n",
    "    Conv2D(32, (3, 3), activation='relu', input_shape=(img_height, img_width, 1)),\n",
    "    MaxPooling2D((2, 2)),\n",
    "    Conv2D(64, (3, 3), activation='relu'),\n",
    "    MaxPooling2D((2, 2)),\n",
    "    Flatten(),\n",
    "    Dense(128, activation='relu'),\n",
    "    Dense(num_classes, activation='softmax')  # Replace num_classes with the actual number of classes --> 4\n",
    "])\n",
    "\n",
    "model.compile(optimizer='adam', \n",
    "              loss='categorical_crossentropy', \n",
    "              metrics=['accuracy'])\n",
    "\n",
    "# model.summary()\n",
    "nb_epochs = 6 # 6 were found to maximize results\n",
    "model_history = model.fit(train_dataset, epochs=nb_epochs)  # Adjust the number of epochs as needed"
   ]
  },
  {
   "cell_type": "code",
   "execution_count": 81,
   "metadata": {},
   "outputs": [
    {
     "data": {
      "image/png": "[encoded data removed]",
      "text/plain": [
       "<Figure size 640x480 with 1 Axes>"
      ]
     },
     "metadata": {},
     "output_type": "display_data"
    }
   ],
   "source": [
    "# Courbe du score de test du réseau test\n",
    "train_acc_model = model_history.history['accuracy']\n",
    "val_acc_model = model_history.history['accuracy']\n",
    "\n",
    "plt.plot(np.arange(1 , nb_epochs + 1, 1),\n",
    "         val_acc_model, \n",
    "         label = 'model test',\n",
    "         color = 'blue')\n",
    "# Labels des axes\n",
    "plt.xlabel('Epochs')\n",
    "plt.ylabel('Accuracy')\n",
    "# Affichage de la légende\n",
    "plt.legend()\n",
    "# Affichage de la figure\n",
    "plt.show()"
   ]
  },
  {
   "cell_type": "markdown",
   "metadata": {},
   "source": [
    "### Prediction model test"
   ]
  },
  {
   "cell_type": "code",
   "execution_count": 75,
   "metadata": {},
   "outputs": [],
   "source": [
    "# import \n",
    "import numpy as np\n",
    "import tensorflow as tf\n",
    "from sklearn.metrics import confusion_matrix\n",
    "import matplotlib.pyplot as plt\n",
    "import seaborn as sns"
   ]
  },
  {
   "cell_type": "code",
   "execution_count": 87,
   "metadata": {},
   "outputs": [
    {
     "name": "stdout",
     "output_type": "stream",
     "text": [
      "['COVID', 'Lung_Opacity', 'Normal', 'Viral_Pneumonia']\n"
     ]
    }
   ],
   "source": [
    "# Make Predictions on the Dataset\n",
    "# Get the true labels and predictions\n",
    "true_labels = []\n",
    "pred_labels = []\n",
    "\n",
    "for images, labels in test_dataset:\n",
    "    preds = model.predict(images)\n",
    "    true_labels.extend(np.argmax(labels.numpy(), axis=1))  # Convert categorical labels to integer\n",
    "    pred_labels.extend(np.argmax(preds, axis=1))  # Convert softmax output to predicted class\n"
   ]
  },
  {
   "cell_type": "code",
   "execution_count": 83,
   "metadata": {},
   "outputs": [],
   "source": [
    "# Confusion matrix\n",
    "# Compute confusion matrix\n",
    "cm = confusion_matrix(true_labels, pred_labels)\n",
    "\n",
    "# Optionally normalize the confusion matrix (if you want percentage instead of raw counts)\n",
    "cm_normalized = cm.astype('float') / cm.sum(axis=1)[:, np.newaxis]"
   ]
  },
  {
   "cell_type": "code",
   "execution_count": 89,
   "metadata": {},
   "outputs": [
    {
     "data": {
      "image/png": "[encoded data removed]",
      "text/plain": [
       "<Figure size 400x300 with 2 Axes>"
      ]
     },
     "metadata": {},
     "output_type": "display_data"
    }
   ],
   "source": [
    "# Visualization \n",
    "# get real label names\n",
    "class_names = test_dataset.class_names\n",
    "\n",
    "# Plot the confusion matrix\n",
    "plt.figure(figsize=(4, 3))\n",
    "sns.heatmap(cm, annot=True, fmt='g', cmap='Blues', xticklabels=class_names, yticklabels=class_names)\n",
    "plt.xlabel('Predicted Label')\n",
    "plt.ylabel('True Label')\n",
    "plt.title('Confusion Matrix')\n",
    "plt.show()"
   ]
  },
  {
   "cell_type": "code",
   "execution_count": null,
   "metadata": {},
   "outputs": [],
   "source": []
  }
 ],
 "metadata": {
  "kernelspec": {
   "display_name": "radio_pulmo_env",
   "language": "python",
   "name": "python3"
  },
  "language_info": {
   "codemirror_mode": {
    "name": "ipython",
    "version": 3
   },
   "file_extension": ".py",
   "mimetype": "text/x-python",
   "name": "python",
   "nbconvert_exporter": "python",
   "pygments_lexer": "ipython3",
   "version": "3.10.12"
  }
 },
 "nbformat": 4,
 "nbformat_minor": 2
}
